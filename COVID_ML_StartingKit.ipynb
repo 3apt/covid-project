{
 "cells": [
  {
   "cell_type": "code",
   "execution_count": 1,
   "metadata": {},
   "outputs": [],
   "source": [
    "import pandas as pd\n",
    "import glob\n",
    "import numpy as np"
   ]
  },
  {
   "cell_type": "code",
   "execution_count": 2,
   "metadata": {},
   "outputs": [],
   "source": [
    "covid_paths = glob.glob(\"./COVID/*\")\n",
    "covid_class = np.ones(len(covid_paths))\n",
    "\n",
    "normal_paths = glob.glob(\"./NORMAL/*\")\n",
    "normal_class = np.zeros(len(normal_paths))\n",
    "\n",
    "viral_paths = glob.glob(\"./Viral Pneumonia/*\")\n",
    "viral_class = np.ones(len(viral_paths)) * 2"
   ]
  },
  {
   "cell_type": "code",
   "execution_count": 3,
   "metadata": {},
   "outputs": [],
   "source": [
    "df_covid = pd.DataFrame([covid_paths, covid_class]).T#, columns = ['img_path', 'class'])\n",
    "df_normal = pd.DataFrame([normal_paths, normal_class]).T\n",
    "df_viral = pd.DataFrame([viral_paths, viral_class]).T"
   ]
  },
  {
   "cell_type": "code",
   "execution_count": 4,
   "metadata": {},
   "outputs": [],
   "source": [
    "df = pd.concat([df_covid, df_normal, df_viral], axis = 0).reset_index(drop = True)"
   ]
  },
  {
   "cell_type": "code",
   "execution_count": 5,
   "metadata": {},
   "outputs": [],
   "source": [
    "df = df.rename({0 : 'img_path', 1: 'class'}, axis = 1)\n",
    "df.to_csv(\"img_paths.csv\")"
   ]
  },
  {
   "cell_type": "code",
   "execution_count": 6,
   "metadata": {},
   "outputs": [],
   "source": [
    "df['class'] = df['class'].astype(str)"
   ]
  },
  {
   "cell_type": "code",
   "execution_count": 7,
   "metadata": {},
   "outputs": [
    {
     "name": "stderr",
     "output_type": "stream",
     "text": [
      "Using TensorFlow backend.\n"
     ]
    }
   ],
   "source": [
    "import tensorflow as tf\n",
    "from keras.models import Sequential\n",
    "from keras.layers import Dense, Conv2D, Flatten\n",
    "from tqdm.keras import TqdmCallback\n",
    "from tensorflow.keras.preprocessing.image import ImageDataGenerator\n",
    "\n",
    "\n",
    "datagen = ImageDataGenerator()\n",
    "\n",
    "\n",
    "\n",
    "model = Sequential()\n",
    "\n",
    "model.add(Conv2D(256, kernel_size = 3,  input_shape = (100, 100, 3), activation = 'relu'))\n",
    "model.add(Conv2D(256, kernel_size = 3, activation = 'relu'))\n",
    "model.add(Flatten())\n",
    "\n",
    "model.add(Dense(3, activation = 'softmax'))\n",
    "\n",
    "\n"
   ]
  },
  {
   "cell_type": "code",
   "execution_count": 8,
   "metadata": {},
   "outputs": [],
   "source": [
    "model.compile(optimizer = 'adam', loss ='sparse_categorical_crossentropy', metrics = ['accuracy'])"
   ]
  },
  {
   "cell_type": "code",
   "execution_count": null,
   "metadata": {},
   "outputs": [
    {
     "name": "stdout",
     "output_type": "stream",
     "text": [
      "Found 3836 validated image filenames belonging to 3 classes.\n",
      "Epoch 1/10\n",
      "240/240 [==============================] - 246s 1s/step - loss: 84.3052 - accuracy: 0.7393\n",
      "Epoch 2/10\n",
      "240/240 [==============================] - 225s 938ms/step - loss: 0.5156 - accuracy: 0.8452\n",
      "Epoch 3/10\n",
      "137/240 [================>.............] - ETA: 1:40 - loss: 0.3852 - accuracy: 0.8682"
     ]
    }
   ],
   "source": [
    "X_train = datagen.flow_from_dataframe(df,\n",
    "                                      x_col = 'img_path',\n",
    "                                      y_col = 'class',\n",
    "                                      class_mode = 'sparse',\n",
    "                                      batch_size = 16,\n",
    "                                      target_size = (100, 100))\n",
    "\n",
    "model.fit(X_train, epochs = 10, verbose = 1)"
   ]
  },
  {
   "cell_type": "code",
   "execution_count": 90,
   "metadata": {},
   "outputs": [
    {
     "data": {
      "text/plain": [
       "<matplotlib.collections.PathCollection at 0x1261a340c48>"
      ]
     },
     "execution_count": 90,
     "metadata": {},
     "output_type": "execute_result"
    },
    {
     "data": {
      "image/png": "[encoded data removed]",
      "text/plain": [
       "<Figure size 432x288 with 1 Axes>"
      ]
     },
     "metadata": {
      "needs_background": "light"
     },
     "output_type": "display_data"
    }
   ],
   "source": [
    "plt.plot(x, model.predict(x))\n",
    "plt.scatter(x , y)"
   ]
  },
  {
   "cell_type": "code",
   "execution_count": null,
   "metadata": {},
   "outputs": [],
   "source": []
  },
  {
   "cell_type": "code",
   "execution_count": null,
   "metadata": {},
   "outputs": [],
   "source": []
  }
 ],
 "metadata": {
  "hide_input": false,
  "kernelspec": {
   "display_name": "Python 3",
   "language": "python",
   "name": "python3"
  },
  "language_info": {
   "codemirror_mode": {
    "name": "ipython",
    "version": 3
   },
   "file_extension": ".py",
   "mimetype": "text/x-python",
   "name": "python",
   "nbconvert_exporter": "python",
   "pygments_lexer": "ipython3",
   "version": "3.7.9"
  },
  "nbTranslate": {
   "displayLangs": [],
   "hotkey": "alt-t",
   "langInMainMenu": true,
   "sourceLang": "fr",
   "targetLang": "en",
   "useGoogleTranslate": true
  }
 },
 "nbformat": 4,
 "nbformat_minor": 4
}
