{
 "cells": [
  {
   "cell_type": "markdown",
   "metadata": {},
   "source": [
    "<img src=\"https://datascientest.fr/train/assets/logo_datascientest.png\" style=\"height:150px\"> \n",
    "<hr style=\"border-width:2px;border-color:##75DFC1\">\n",
    "<center> <h1> Projet COVID </h1> </center> <br>\n",
    "<center> <h2> Premier prototype</h2> </center> <br>\n",
    "<hr style=\"border-width:2px;border-color:##75DFC1\">\n",
    "\n",
    "Première implémentation d'un CNN sur les images\n",
    "<hr style=\"border-width:2px;border-color:##75DFC1\">\n",
    "\n",
    ">CNN sur Keras"
   ]
  },
  {
   "cell_type": "code",
   "execution_count": 2,
   "metadata": {},
   "outputs": [],
   "source": [
    "%matplotlib inline\n",
    "import matplotlib.pyplot as plt\n",
    "import numpy as np\n",
    "import os\n",
    "import pandas as pd\n",
    "\n",
    "os.chdir('COVID-19 Radiography Database')\n",
    "\n",
    "df = pd.read_csv('img_metadata.csv')"
   ]
  },
  {
   "cell_type": "code",
   "execution_count": 3,
   "metadata": {},
   "outputs": [
    {
     "data": {
      "text/html": [
       "<div>\n",
       "<style scoped>\n",
       "    .dataframe tbody tr th:only-of-type {\n",
       "        vertical-align: middle;\n",
       "    }\n",
       "\n",
       "    .dataframe tbody tr th {\n",
       "        vertical-align: top;\n",
       "    }\n",
       "\n",
       "    .dataframe thead th {\n",
       "        text-align: right;\n",
       "    }\n",
       "</style>\n",
       "<table border=\"1\" class=\"dataframe\">\n",
       "  <thead>\n",
       "    <tr style=\"text-align: right;\">\n",
       "      <th></th>\n",
       "      <th>path</th>\n",
       "      <th>Class</th>\n",
       "      <th>height</th>\n",
       "      <th>width</th>\n",
       "      <th>channel</th>\n",
       "      <th>B&amp;W</th>\n",
       "      <th>luminosite</th>\n",
       "    </tr>\n",
       "  </thead>\n",
       "  <tbody>\n",
       "    <tr>\n",
       "      <th>0</th>\n",
       "      <td>COVID/COVID (934).png</td>\n",
       "      <td>covid</td>\n",
       "      <td>331.0</td>\n",
       "      <td>331.0</td>\n",
       "      <td>3.0</td>\n",
       "      <td>True</td>\n",
       "      <td>106.488376</td>\n",
       "    </tr>\n",
       "    <tr>\n",
       "      <th>1</th>\n",
       "      <td>COVID/COVID (296).png</td>\n",
       "      <td>covid</td>\n",
       "      <td>256.0</td>\n",
       "      <td>256.0</td>\n",
       "      <td>3.0</td>\n",
       "      <td>True</td>\n",
       "      <td>119.666504</td>\n",
       "    </tr>\n",
       "    <tr>\n",
       "      <th>2</th>\n",
       "      <td>COVID/COVID (74).png</td>\n",
       "      <td>covid</td>\n",
       "      <td>256.0</td>\n",
       "      <td>256.0</td>\n",
       "      <td>3.0</td>\n",
       "      <td>True</td>\n",
       "      <td>153.078995</td>\n",
       "    </tr>\n",
       "    <tr>\n",
       "      <th>3</th>\n",
       "      <td>COVID/COVID (261).png</td>\n",
       "      <td>covid</td>\n",
       "      <td>256.0</td>\n",
       "      <td>256.0</td>\n",
       "      <td>3.0</td>\n",
       "      <td>True</td>\n",
       "      <td>186.787781</td>\n",
       "    </tr>\n",
       "    <tr>\n",
       "      <th>4</th>\n",
       "      <td>COVID/COVID (978).png</td>\n",
       "      <td>covid</td>\n",
       "      <td>331.0</td>\n",
       "      <td>331.0</td>\n",
       "      <td>3.0</td>\n",
       "      <td>True</td>\n",
       "      <td>159.006818</td>\n",
       "    </tr>\n",
       "  </tbody>\n",
       "</table>\n",
       "</div>"
      ],
      "text/plain": [
       "                    path  Class  height  width  channel   B&W  luminosite\n",
       "0  COVID/COVID (934).png  covid   331.0  331.0      3.0  True  106.488376\n",
       "1  COVID/COVID (296).png  covid   256.0  256.0      3.0  True  119.666504\n",
       "2   COVID/COVID (74).png  covid   256.0  256.0      3.0  True  153.078995\n",
       "3  COVID/COVID (261).png  covid   256.0  256.0      3.0  True  186.787781\n",
       "4  COVID/COVID (978).png  covid   331.0  331.0      3.0  True  159.006818"
      ]
     },
     "execution_count": 3,
     "metadata": {},
     "output_type": "execute_result"
    }
   ],
   "source": [
    "df.head()"
   ]
  },
  {
   "cell_type": "code",
   "execution_count": 4,
   "metadata": {},
   "outputs": [
    {
     "name": "stdout",
     "output_type": "stream",
     "text": [
      "height  width \n",
      "1024.0  1024.0    2686\n",
      "331.0   331.0      573\n",
      "256.0   256.0      558\n",
      "891.0   1084.0      31\n",
      "952.0   1184.0       9\n",
      "992.0   1192.0       6\n",
      "1047.0  1275.0       6\n",
      "1053.0  1053.0       4\n",
      "917.0   1116.0       4\n",
      "852.0   1039.0       1\n",
      "197.0   253.0        1\n",
      "723.0   594.0        1\n",
      "913.0   1102.0       1\n",
      "875.0   1108.0       1\n",
      "913.0   1108.0       1\n",
      "928.0   1130.0       1\n",
      "947.0   1192.0       1\n",
      "160.0   187.0        1\n",
      "dtype: int64\n"
     ]
    }
   ],
   "source": [
    "print(df[['height', 'width']].value_counts())"
   ]
  },
  {
   "cell_type": "code",
   "execution_count": 20,
   "metadata": {},
   "outputs": [],
   "source": [
    "%matplotlib inline\n",
    "import numpy as np\n",
    "\n",
    "import matplotlib.pyplot as plt\n",
    "import time, cv2\n",
    "import seaborn as sns\n",
    "\n",
    "import pandas as pd\n",
    "from sklearn.model_selection import train_test_split\n",
    "\n",
    "from keras.layers import Dense, Dropout, Flatten, Conv2D, MaxPooling2D\n",
    "from keras.optimizers import Adam\n",
    "from keras.models import Model, Sequential\n",
    "from keras.preprocessing.image import ImageDataGenerator\n",
    "import keras\n",
    "from keras import backend as K"
   ]
  },
  {
   "cell_type": "code",
   "execution_count": 8,
   "metadata": {},
   "outputs": [],
   "source": [
    "train_datagen = ImageDataGenerator(rescale = 1./255,\n",
    "                                   shear_range = 0.2,\n",
    "                                   zoom_range = 0.2,\n",
    "                                   rotation_range=40,\n",
    "                                   width_shift_range=0.2,\n",
    "                                   height_shift_range=0.2,\n",
    "                                   horizontal_flip=True,\n",
    "                                   fill_mode='nearest')\n",
    "test_datagen = ImageDataGenerator(rescale = 1./255)"
   ]
  },
  {
   "cell_type": "code",
   "execution_count": 12,
   "metadata": {},
   "outputs": [
    {
     "name": "stderr",
     "output_type": "stream",
     "text": [
      "<ipython-input-12-097d295e3a2f>:2: SettingWithCopyWarning: \n",
      "A value is trying to be set on a copy of a slice from a DataFrame.\n",
      "Try using .loc[row_indexer,col_indexer] = value instead\n",
      "\n",
      "See the caveats in the documentation: https://pandas.pydata.org/pandas-docs/stable/user_guide/indexing.html#returning-a-view-versus-a-copy\n",
      "  data['Class'] = data['Class'].replace({'covid' : 1, 'normal' : 0, 'pneumo' : 2})\n"
     ]
    }
   ],
   "source": [
    "data = df[['path', 'Class']]\n",
    "data['Class'] = data['Class'].replace({'covid' : 1, 'normal' : 0, 'pneumo' : 2})\n",
    "\n",
    "data_train, data_test = train_test_split(data, test_size=0.2, random_state=123)"
   ]
  },
  {
   "cell_type": "code",
   "execution_count": 13,
   "metadata": {},
   "outputs": [
    {
     "data": {
      "text/html": [
       "<div>\n",
       "<style scoped>\n",
       "    .dataframe tbody tr th:only-of-type {\n",
       "        vertical-align: middle;\n",
       "    }\n",
       "\n",
       "    .dataframe tbody tr th {\n",
       "        vertical-align: top;\n",
       "    }\n",
       "\n",
       "    .dataframe thead th {\n",
       "        text-align: right;\n",
       "    }\n",
       "</style>\n",
       "<table border=\"1\" class=\"dataframe\">\n",
       "  <thead>\n",
       "    <tr style=\"text-align: right;\">\n",
       "      <th></th>\n",
       "      <th>path</th>\n",
       "      <th>Class</th>\n",
       "    </tr>\n",
       "  </thead>\n",
       "  <tbody>\n",
       "    <tr>\n",
       "      <th>2396</th>\n",
       "      <td>NORMAL/NORMAL (1192).png</td>\n",
       "      <td>0</td>\n",
       "    </tr>\n",
       "    <tr>\n",
       "      <th>1120</th>\n",
       "      <td>COVID/COVID (865).png</td>\n",
       "      <td>1</td>\n",
       "    </tr>\n",
       "    <tr>\n",
       "      <th>1840</th>\n",
       "      <td>NORMAL/NORMAL (316).png</td>\n",
       "      <td>0</td>\n",
       "    </tr>\n",
       "    <tr>\n",
       "      <th>1134</th>\n",
       "      <td>COVID/COVID (219).png</td>\n",
       "      <td>1</td>\n",
       "    </tr>\n",
       "    <tr>\n",
       "      <th>1268</th>\n",
       "      <td>NORMAL/NORMAL (350).png</td>\n",
       "      <td>0</td>\n",
       "    </tr>\n",
       "    <tr>\n",
       "      <th>...</th>\n",
       "      <td>...</td>\n",
       "      <td>...</td>\n",
       "    </tr>\n",
       "    <tr>\n",
       "      <th>1122</th>\n",
       "      <td>COVID/COVID (1147).png</td>\n",
       "      <td>1</td>\n",
       "    </tr>\n",
       "    <tr>\n",
       "      <th>1346</th>\n",
       "      <td>NORMAL/NORMAL (193).png</td>\n",
       "      <td>0</td>\n",
       "    </tr>\n",
       "    <tr>\n",
       "      <th>3454</th>\n",
       "      <td>Viral Pneumonia/Viral Pneumonia (1096).png</td>\n",
       "      <td>2</td>\n",
       "    </tr>\n",
       "    <tr>\n",
       "      <th>3437</th>\n",
       "      <td>Viral Pneumonia/Viral Pneumonia (468).png</td>\n",
       "      <td>2</td>\n",
       "    </tr>\n",
       "    <tr>\n",
       "      <th>3582</th>\n",
       "      <td>Viral Pneumonia/Viral Pneumonia (954).png</td>\n",
       "      <td>2</td>\n",
       "    </tr>\n",
       "  </tbody>\n",
       "</table>\n",
       "<p>3108 rows × 2 columns</p>\n",
       "</div>"
      ],
      "text/plain": [
       "                                            path  Class\n",
       "2396                    NORMAL/NORMAL (1192).png      0\n",
       "1120                       COVID/COVID (865).png      1\n",
       "1840                     NORMAL/NORMAL (316).png      0\n",
       "1134                       COVID/COVID (219).png      1\n",
       "1268                     NORMAL/NORMAL (350).png      0\n",
       "...                                          ...    ...\n",
       "1122                      COVID/COVID (1147).png      1\n",
       "1346                     NORMAL/NORMAL (193).png      0\n",
       "3454  Viral Pneumonia/Viral Pneumonia (1096).png      2\n",
       "3437   Viral Pneumonia/Viral Pneumonia (468).png      2\n",
       "3582   Viral Pneumonia/Viral Pneumonia (954).png      2\n",
       "\n",
       "[3108 rows x 2 columns]"
      ]
     },
     "execution_count": 13,
     "metadata": {},
     "output_type": "execute_result"
    }
   ],
   "source": [
    "data_train"
   ]
  },
  {
   "cell_type": "code",
   "execution_count": 18,
   "metadata": {},
   "outputs": [
    {
     "name": "stdout",
     "output_type": "stream",
     "text": [
      "Found 3108 validated image filenames belonging to 3 classes.\n",
      "Found 778 validated image filenames belonging to 3 classes.\n"
     ]
    },
    {
     "name": "stderr",
     "output_type": "stream",
     "text": [
      "<ipython-input-18-0ee7e16b7691>:3: SettingWithCopyWarning: \n",
      "A value is trying to be set on a copy of a slice from a DataFrame.\n",
      "Try using .loc[row_indexer,col_indexer] = value instead\n",
      "\n",
      "See the caveats in the documentation: https://pandas.pydata.org/pandas-docs/stable/user_guide/indexing.html#returning-a-view-versus-a-copy\n",
      "  data_train[\"Class\"] = data_train[\"Class\"].astype(str)\n",
      "<ipython-input-18-0ee7e16b7691>:4: SettingWithCopyWarning: \n",
      "A value is trying to be set on a copy of a slice from a DataFrame.\n",
      "Try using .loc[row_indexer,col_indexer] = value instead\n",
      "\n",
      "See the caveats in the documentation: https://pandas.pydata.org/pandas-docs/stable/user_guide/indexing.html#returning-a-view-versus-a-copy\n",
      "  data_test[\"Class\"] = data_test[\"Class\"].astype(str)\n"
     ]
    }
   ],
   "source": [
    "batch_size = 32\n",
    "\n",
    "data_train[\"Class\"] = data_train[\"Class\"].astype(str)\n",
    "data_test[\"Class\"] = data_test[\"Class\"].astype(str)\n",
    "\n",
    "training_set = train_datagen.flow_from_dataframe(dataframe=data_train,\n",
    "                                                 directory=\"\",\n",
    "                                                 x_col = \"path\",\n",
    "                                                 y_col = \"Class\",\n",
    "                                                 target_size = (160, 160), \n",
    "                                                 batch_size = batch_size, \n",
    "                                                 color_mode='grayscale',\n",
    "                                                 class_mode = 'categorical')\n",
    "\n",
    "test_set = test_datagen.flow_from_dataframe(dataframe=data_test,\n",
    "                                            directory=\"\",\n",
    "                                            x_col = \"path\",\n",
    "                                            y_col = \"Class\",\n",
    "                                            target_size = (160, 160),\n",
    "                                            batch_size = batch_size,\n",
    "                                            color_mode='grayscale',\n",
    "                                            class_mode = 'categorical')"
   ]
  },
  {
   "cell_type": "code",
   "execution_count": 28,
   "metadata": {},
   "outputs": [
    {
     "name": "stdout",
     "output_type": "stream",
     "text": [
      "Model: \"sequential_4\"\n",
      "_________________________________________________________________\n",
      "Layer (type)                 Output Shape              Param #   \n",
      "=================================================================\n",
      "conv2d_6 (Conv2D)            (None, 158, 158, 32)      320       \n",
      "_________________________________________________________________\n",
      "max_pooling2d_6 (MaxPooling2 (None, 79, 79, 32)        0         \n",
      "_________________________________________________________________\n",
      "conv2d_7 (Conv2D)            (None, 77, 77, 32)        9248      \n",
      "_________________________________________________________________\n",
      "max_pooling2d_7 (MaxPooling2 (None, 38, 38, 32)        0         \n",
      "_________________________________________________________________\n",
      "flatten_3 (Flatten)          (None, 46208)             0         \n",
      "_________________________________________________________________\n",
      "dense_6 (Dense)              (None, 128)               5914752   \n",
      "_________________________________________________________________\n",
      "dense_7 (Dense)              (None, 3)                 387       \n",
      "=================================================================\n",
      "Total params: 5,924,707\n",
      "Trainable params: 5,924,707\n",
      "Non-trainable params: 0\n",
      "_________________________________________________________________\n"
     ]
    }
   ],
   "source": [
    "classifier = Sequential()\n",
    "conv2d_5 = Conv2D(filters = 32, \n",
    "                  kernel_size = (3, 3), \n",
    "                  padding = 'valid', \n",
    "                  input_shape = (160, 160, 1), \n",
    "                  activation = 'relu')\n",
    "max_pooling2d_5 = MaxPooling2D(pool_size = (2, 2))\n",
    "conv2d_6 = Conv2D(filters = 32,                    \n",
    "                  kernel_size = (3, 3),          \n",
    "                  padding = 'valid',             \n",
    "                  activation = 'relu')\n",
    "max_pooling2d_6 = MaxPooling2D(pool_size = (2, 2))\n",
    "flatten_3 = Flatten()\n",
    "dense_5 = Dense(units = 128,\n",
    "                activation = 'relu')\n",
    "dense_6 = Dense(units = 3,\n",
    "                activation = 'softmax')\n",
    "\n",
    "classifier.add(conv2d_5)\n",
    "classifier.add(max_pooling2d_5)\n",
    "classifier.add(conv2d_6)\n",
    "classifier.add(max_pooling2d_6)\n",
    "classifier.add(flatten_3)\n",
    "classifier.add(dense_5)\n",
    "classifier.add(dense_6)\n",
    "\n",
    "classifier.summary()"
   ]
  },
  {
   "cell_type": "code",
   "execution_count": 29,
   "metadata": {},
   "outputs": [],
   "source": [
    "# Compilation\n",
    "classifier.compile(loss = 'categorical_crossentropy', \n",
    "                   optimizer = 'adam', \n",
    "                   metrics = ['accuracy'])"
   ]
  },
  {
   "cell_type": "code",
   "execution_count": 31,
   "metadata": {},
   "outputs": [
    {
     "name": "stdout",
     "output_type": "stream",
     "text": [
      "Epoch 1/10\n",
      "97/97 [==============================] - 47s 483ms/step - loss: 0.4689 - accuracy: 0.8257 - val_loss: 0.3427 - val_accuracy: 0.8815\n",
      "Epoch 2/10\n",
      "97/97 [==============================] - 46s 477ms/step - loss: 0.4811 - accuracy: 0.8023 - val_loss: 0.3574 - val_accuracy: 0.8672\n",
      "Epoch 3/10\n",
      "97/97 [==============================] - 46s 477ms/step - loss: 0.4114 - accuracy: 0.8384 - val_loss: 0.3022 - val_accuracy: 0.8932\n",
      "Epoch 4/10\n",
      "97/97 [==============================] - 47s 482ms/step - loss: 0.4039 - accuracy: 0.8457 - val_loss: 0.4054 - val_accuracy: 0.8542\n",
      "Epoch 5/10\n",
      "97/97 [==============================] - 46s 478ms/step - loss: 0.3513 - accuracy: 0.8774 - val_loss: 0.3013 - val_accuracy: 0.8906\n",
      "Epoch 6/10\n",
      "97/97 [==============================] - 47s 481ms/step - loss: 0.3959 - accuracy: 0.8492 - val_loss: 0.2950 - val_accuracy: 0.8932\n",
      "Epoch 7/10\n",
      "97/97 [==============================] - 48s 493ms/step - loss: 0.3694 - accuracy: 0.8605 - val_loss: 0.3989 - val_accuracy: 0.8503\n",
      "Epoch 8/10\n",
      "97/97 [==============================] - 47s 489ms/step - loss: 0.3674 - accuracy: 0.8622 - val_loss: 0.2695 - val_accuracy: 0.9102\n",
      "Epoch 9/10\n",
      "97/97 [==============================] - 48s 498ms/step - loss: 0.3640 - accuracy: 0.8722 - val_loss: 0.2697 - val_accuracy: 0.9049\n",
      "Epoch 10/10\n",
      "97/97 [==============================] - 49s 503ms/step - loss: 0.3412 - accuracy: 0.8700 - val_loss: 0.3221 - val_accuracy: 0.8841\n"
     ]
    }
   ],
   "source": [
    "# Entraînement\n",
    "history = classifier.fit(training_set, \n",
    "                                   epochs = 10,\n",
    "                                   workers = -1,\n",
    "                                   steps_per_epoch = len(data_train)//batch_size,\n",
    "                                   validation_data = test_set,\n",
    "                                   validation_steps = len(data_test)//batch_size)"
   ]
  },
  {
   "cell_type": "code",
   "execution_count": null,
   "metadata": {},
   "outputs": [],
   "source": []
  },
  {
   "cell_type": "code",
   "execution_count": null,
   "metadata": {},
   "outputs": [],
   "source": []
  },
  {
   "cell_type": "code",
   "execution_count": null,
   "metadata": {},
   "outputs": [],
   "source": []
  },
  {
   "cell_type": "code",
   "execution_count": null,
   "metadata": {},
   "outputs": [],
   "source": []
  }
 ],
 "metadata": {
  "kernelspec": {
   "display_name": "Python 3",
   "language": "python",
   "name": "python3"
  },
  "language_info": {
   "codemirror_mode": {
    "name": "ipython",
    "version": 3
   },
   "file_extension": ".py",
   "mimetype": "text/x-python",
   "name": "python",
   "nbconvert_exporter": "python",
   "pygments_lexer": "ipython3",
   "version": "3.8.5"
  }
 },
 "nbformat": 4,
 "nbformat_minor": 4
}
